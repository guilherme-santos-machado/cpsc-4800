{
 "cells": [
  {
   "cell_type": "markdown",
   "metadata": {},
   "source": [
    "\n",
    "\n",
    "# Assignment 2 - Python Basics\n",
    "\n",
    "\n"
   ]
  },
  {
   "cell_type": "markdown",
   "metadata": {},
   "source": [
    "### A note for this assignment\n",
    "\n",
    "Submit this notebook with your answers included below each question.\n",
    "\n",
    "\n",
    "| Exercise | Point |\n",
    "| --- | --- |\n",
    "| 1 | 5 |\n",
    "| 2 | 5 |\n",
    "| 3 | 5 |\n",
    "| 4 | 5 |\n",
    "| 5 | 10 |\n",
    "| 6 | 10 |\n",
    "| 7 | 10 |\n",
    "| 8 | 10 |\n",
    "| 9 | 10 |\n",
    "| 10| 5 |\n",
    "| 11| 5 |\n",
    "| 12 | 10 |\n",
    "| 13 | 5 |\n",
    "|14 | 5 |\n",
    "| **Total** | **100** |\n"
   ]
  },
  {
   "cell_type": "markdown",
   "metadata": {},
   "source": [
    "### Note: To get the full mark, you need to write docstring for all of your functions."
   ]
  },
  {
   "cell_type": "markdown",
   "metadata": {},
   "source": [
    "### Exercise 1"
   ]
  },
  {
   "cell_type": "markdown",
   "metadata": {},
   "source": [
    "- Why do we need to use functions in python?\n",
    "- What is the diffrence between positional argument and keyword argument in python?"
   ]
  },
  {
   "cell_type": "markdown",
   "metadata": {},
   "source": [
    "### Exercise 2"
   ]
  },
  {
   "cell_type": "markdown",
   "metadata": {},
   "source": [
    "**Create a function that grabs the name of the person and returns a greeting message as below. Please ensure the name of the person is capitalized. Provide one test case for your function.**\n",
    "\n",
    "```\n",
    "For example, passing \"Nasim\" or \"nasim\" would return:\n",
    "\n",
    "`\"Hello NASIM, Welcome to Canada!\"`\n",
    "```"
   ]
  },
  {
   "cell_type": "markdown",
   "metadata": {},
   "source": [
    "### Exercise 3\n"
   ]
  },
  {
   "cell_type": "markdown",
   "metadata": {},
   "source": [
    "**Create a basic function that returns True if the word 'cat' is contained in the input string. Don't worry about edge cases like a punctuation being attached to the word cat, but do account for capitalization. Provide one test case for your function.**"
   ]
  },
  {
   "cell_type": "markdown",
   "metadata": {},
   "source": [
    "### Exercise 4"
   ]
  },
  {
   "cell_type": "markdown",
   "metadata": {},
   "source": [
    "**Create a function that counts the number of times the word \"python\" occurs in a string. Again ignore edge cases. Provide one test case for your funciton.**"
   ]
  },
  {
   "cell_type": "markdown",
   "metadata": {},
   "source": [
    "### Exercise 5"
   ]
  },
  {
   "cell_type": "markdown",
   "metadata": {},
   "source": [
    "**You are driving a little too fast, and a police officer stops you. Write a function\n",
    "  to return one of 3 possible results: \"No ticket\", \"Small ticket\", or \"Big Ticket\". \n",
    "  If your speed is 60 or less, the result is \"No Ticket\". If speed is between 61 \n",
    "  and 80 inclusive, the result is \"Small Ticket\". If speed is 81 or more, the result is \"Big    Ticket\". Unless it is your birthday (encoded as a boolean value in the parameters of the function) -- on your birthday, your speed can be 5 higher in all \n",
    "  cases.**"
   ]
  },
  {
   "cell_type": "markdown",
   "metadata": {},
   "source": [
    "### Exercise 6"
   ]
  },
  {
   "cell_type": "markdown",
   "metadata": {},
   "source": [
    "**Define a function that takes a number, returns True if the sum of the cubes of its digits is equal to the number itself, else returns False. For instance, passing the number 153 to your function should return True.**\n"
   ]
  },
  {
   "cell_type": "markdown",
   "metadata": {},
   "source": [
    "### Exercise 7"
   ]
  },
  {
   "cell_type": "markdown",
   "metadata": {},
   "source": [
    "**Given the 3 lists below contained within list_1, write a nested loop to print out each item one at at time.**\n"
   ]
  },
  {
   "cell_type": "code",
   "execution_count": null,
   "metadata": {},
   "outputs": [],
   "source": [
    "list_1 = [[\"Sam\", \"Sarah\", \"Darcy\"], [34, 32, 30], [\"Ontario\", \"Quebec\", \"British Columbia\"]]"
   ]
  },
  {
   "cell_type": "markdown",
   "metadata": {},
   "source": [
    "### Exercise 8"
   ]
  },
  {
   "cell_type": "markdown",
   "metadata": {},
   "source": [
    "**Students in a class receive their grades as Pass/Fail. Scores of 60 or more (out of 100) mean that the grade is \"Pass\". For lower scores, the grade is \"Fail\". In addition, scores above 95 (not included) are graded as \"Top Score\". Write a function so that it returns the proper grade. Make sure to write the proper docstring.**"
   ]
  },
  {
   "cell_type": "markdown",
   "metadata": {},
   "source": [
    "Test out your function:\n",
    "```\n",
    "print(exam_grade(65))\n",
    "print(exam_grade(55)) \n",
    "print(exam_grade(60))\n",
    "print(exam_grade(95)) \n",
    "print(exam_grade(100)) \n",
    "print(exam_grade(0))\n",
    "```\n",
    "    "
   ]
  },
  {
   "cell_type": "markdown",
   "metadata": {},
   "source": [
    "### Exercise 9"
   ]
  },
  {
   "cell_type": "markdown",
   "metadata": {},
   "source": [
    "For this exercise, you will be using the [Wine reviews Dataset](https://www.kaggle.com/zynicide/wine-reviews) from Kaggle!. Please download the \"winemag-data-130k-v2.csv\" file from kaggle and complete the below exercises. "
   ]
  },
  {
   "cell_type": "markdown",
   "metadata": {},
   "source": [
    "1- Read .csv file as a dataframe.\n",
    "\n",
    "2- Check the head of the DataFrame.\n",
    "\n",
    "3- Find out the number of rows and columns in the dataset.\n",
    "\n",
    "4- Select the records with index labels 10, 20, 13, 15, and 18, assigning the result to the variable sample_reviews.\n",
    "\n",
    "5- Create a variable df containing the country, price, description, and province columns of the records with the index labels 0, 1, 2, and 50. \n",
    "\n",
    "6- Find out the number of null/na values in each column.\n",
    "\n",
    "7- Drop all the rows where region_1 is null.\n",
    "\n",
    "8- Create a DataFrame american_wines containing reviews of wines made in US. "
   ]
  },
  {
   "cell_type": "markdown",
   "metadata": {},
   "source": [
    "### Exercise 10"
   ]
  },
  {
   "cell_type": "markdown",
   "metadata": {},
   "source": [
    "Define a function that takes a list of lists and returns a new list of lists with a student's name and their average grade in each sublist."
   ]
  },
  {
   "cell_type": "markdown",
   "metadata": {},
   "source": [
    "Example: \n",
    "```\n",
    "average_grade([['Alice', 60, 88, 44, 70], ['Joe', 44, 100, 80, 60, 50]])\n",
    "```\n",
    "\n",
    "Exepected output:\n",
    "```\n",
    "[['Alice', 65.5], ['Joe', 66.8]]\n",
    "```"
   ]
  },
  {
   "cell_type": "markdown",
   "metadata": {},
   "source": [
    "### Exercise 11"
   ]
  },
  {
   "cell_type": "markdown",
   "metadata": {},
   "source": [
    "Sort a tuple of tuples by 2nd item\n",
    "\n",
    "```\n",
    "tuple1 = (('a', 23),('b', 37),('c', 11), ('d',29))\n",
    "```\n",
    "Expected output:\n",
    "```\n",
    "(('c', 11), ('a', 23), ('d', 29), ('b', 37))\n",
    "```"
   ]
  },
  {
   "cell_type": "markdown",
   "metadata": {},
   "source": [
    "## Exercise 12"
   ]
  },
  {
   "cell_type": "markdown",
   "metadata": {},
   "source": [
    "a) What is the meaning of `recursion` in python programming? Provide one example of a function that recursion would be useful?"
   ]
  },
  {
   "cell_type": "markdown",
   "metadata": {},
   "source": [
    "b) The Ackermann function, A(m, n), is defined:*\n",
    "\n",
    "    \n",
    "$$A(m,n)={\\begin{cases}n+1&{\\mbox{if }}m=0\\\\A(m-1,1)&{\\mbox{if }}m>0{\\mbox{ and }}n=0\\\\A(m-1,A(m,n-1))&{\\mbox{if }}m>0{\\mbox{ and }}n>0.\\end{cases}}$$"
   ]
  },
  {
   "cell_type": "markdown",
   "metadata": {},
   "source": [
    "*See http://en.wikipedia.org/wiki/Ackermann_function. Write a function named `ack` that evaluates the Ackermann function. Use your function to evaluate `ack(3, 4)`, which should be 125. What happens for larger values of `m` and `n`?"
   ]
  },
  {
   "cell_type": "markdown",
   "metadata": {},
   "source": [
    "# Exercise 13"
   ]
  },
  {
   "cell_type": "markdown",
   "metadata": {},
   "source": [
    "Write a function called `is_reverse` that takes two words as arguments and check whether the words are reverse of each other. For instance, the result of running this code \n",
    "\n",
    "`is_reverse(\"stop\", \"pots\")`\n",
    "\n",
    "should be `True`."
   ]
  },
  {
   "cell_type": "markdown",
   "metadata": {},
   "source": [
    "# Exercise 14\n",
    "a) What is the meaning of `list comprehension` in python? Provide one example.\n",
    "\n",
    "b) Answer the below question using list comprehension.\n",
    "Consider a list of strings, like this: ['one', 'two', 'three', 'four', 'five', 'six']. Write a list comprehension that produces a list with tuples where the first element of the tuple is the length of any element in the initial list that has more than 3 characters and the second elemnt of the tuple is showing the length of the element. "
   ]
  },
  {
   "cell_type": "markdown",
   "metadata": {},
   "source": []
  }
 ],
 "metadata": {
  "anaconda-cloud": {},
  "kernelspec": {
   "display_name": "Python 3 (ipykernel)",
   "language": "python",
   "name": "python3"
  },
  "language_info": {
   "codemirror_mode": {
    "name": "ipython",
    "version": 3
   },
   "file_extension": ".py",
   "mimetype": "text/x-python",
   "name": "python",
   "nbconvert_exporter": "python",
   "pygments_lexer": "ipython3",
   "version": "3.9.12"
  }
 },
 "nbformat": 4,
 "nbformat_minor": 1
}
