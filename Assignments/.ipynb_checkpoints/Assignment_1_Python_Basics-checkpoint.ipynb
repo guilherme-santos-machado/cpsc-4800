{
 "cells": [
  {
   "cell_type": "markdown",
   "metadata": {},
   "source": [
    "\n",
    "\n",
    "# Assignment 1 - Python Basics\n",
    "\n"
   ]
  },
  {
   "cell_type": "markdown",
   "metadata": {},
   "source": [
    "### A note for this assignment\n",
    "\n",
    "Submit this notebook with your answers included below each question.\n",
    "\n",
    "\n",
    "| Exercise | Point |\n",
    "| --- | --- |\n",
    "| 1 | 10 |\n",
    "| 2 | 10 |\n",
    "| 3 | 10 |\n",
    "| 4 | 10 |\n",
    "| 5 | 10 |\n",
    "| 6 | 10 |\n",
    "| 7 | 10 |\n",
    "| 8 | 10 |\n",
    "| 9 | 10 |\n",
    "|10 | 10 |\n",
    "| **Total** | **100** |\n"
   ]
  },
  {
   "cell_type": "markdown",
   "metadata": {},
   "source": [
    "### Exercise 1\n"
   ]
  },
  {
   "cell_type": "markdown",
   "metadata": {},
   "source": [
    "**Given this nested list, use indexing to grab the word \"python\".**"
   ]
  },
  {
   "cell_type": "code",
   "execution_count": 5,
   "metadata": {},
   "outputs": [],
   "source": [
    "lst = [1,2, [3, 4], [5, [100, 200, ['python']], 23, 11], 1, 7]"
   ]
  },
  {
   "cell_type": "code",
   "execution_count": 25,
   "metadata": {},
   "outputs": [
    {
     "data": {
      "text/plain": [
       "'python'"
      ]
     },
     "execution_count": 25,
     "metadata": {},
     "output_type": "execute_result"
    }
   ],
   "source": [
    "lst[3][1][2][0]"
   ]
  },
  {
   "cell_type": "markdown",
   "metadata": {},
   "source": [
    "### Exercise 2"
   ]
  },
  {
   "cell_type": "markdown",
   "metadata": {},
   "source": [
    "**Given this nested dictionary grab the word \"python\".**"
   ]
  },
  {
   "cell_type": "code",
   "execution_count": 28,
   "metadata": {},
   "outputs": [],
   "source": [
    "d = {'k1':[1, 2, 3, {'tricky':['oh','man','inception',{'target':[1, 2, 3, 'python']}]}]}"
   ]
  },
  {
   "cell_type": "code",
   "execution_count": 44,
   "metadata": {},
   "outputs": [
    {
     "data": {
      "text/plain": [
       "'python'"
      ]
     },
     "execution_count": 44,
     "metadata": {},
     "output_type": "execute_result"
    }
   ],
   "source": [
    "d[\"k1\"][3]['tricky'][3]['target'][3]"
   ]
  },
  {
   "cell_type": "markdown",
   "metadata": {},
   "source": [
    "### Exercise 3"
   ]
  },
  {
   "cell_type": "markdown",
   "metadata": {},
   "source": [
    "**Create a list L with odd length.  Complete the following tasks:**\n",
    "\n",
    "\n",
    " - Find the median element\n",
    " - Slice out all element indexed lower than the median element\n",
    " \n",
    "```\n",
    "An example of a list L:\n",
    "L= [4, 5, 3, 2, 6, 6, 9]\n",
    "```"
   ]
  },
  {
   "cell_type": "code",
   "execution_count": 94,
   "metadata": {},
   "outputs": [
    {
     "name": "stdout",
     "output_type": "stream",
     "text": [
      "Innitial List: [4, 2, 6, 9, 7, 8, 6, 4, 30]\n",
      "Median value: 6\n",
      "New list output: [6, 9, 7, 8, 6, 30]\n"
     ]
    }
   ],
   "source": [
    "import statistics as s\n",
    "\n",
    "gui_list = [4,2,6,9,7,8,6,4,30]\n",
    "new_l = []\n",
    "print(f\"Innitial List: {gui_list}\")\n",
    "median = s.median(gui_list)\n",
    "i=0\n",
    "for i in range(len(gui_list)):\n",
    "    if gui_list[i] >= median:\n",
    "        new_l.append(gui_list[i])\n",
    "\n",
    "\n",
    "    \n",
    "print(f\"Median value: {median}\")\n",
    "print(f\"New list output: {new_l}\")"
   ]
  },
  {
   "cell_type": "markdown",
   "metadata": {},
   "source": [
    "### Exercise 4"
   ]
  },
  {
   "cell_type": "markdown",
   "metadata": {},
   "source": [
    "\n",
    "**a) Swap the following two tuples using one line of python code:**\n",
    "\n",
    "```\n",
    "tuple1 = (10, 23)\n",
    "tuple2 = (97, 33)\n",
    "```\n",
    "\n",
    "**Expected output:**\n",
    "```\n",
    "tuple1 = (97, 33)\n",
    "tuple2 = (10, 23)\n",
    "```\n"
   ]
  },
  {
   "cell_type": "code",
   "execution_count": 95,
   "metadata": {},
   "outputs": [
    {
     "name": "stdout",
     "output_type": "stream",
     "text": [
      "(97, 33)\n"
     ]
    }
   ],
   "source": [
    "t1 = (10, 23)\n",
    "t2 = (97, 33)\n",
    "(t1,t2)=(t2,t1)\n",
    "print(t1)"
   ]
  },
  {
   "cell_type": "code",
   "execution_count": null,
   "metadata": {},
   "outputs": [],
   "source": []
  },
  {
   "cell_type": "markdown",
   "metadata": {},
   "source": [
    "**b) Modify the first item (22) of a list inside a following tuple to 222**\n",
    "\n",
    "```\n",
    "tuple1 = (11, [22, 33], 45, 56)\n",
    "```\n",
    "\n",
    "**Expected output:**\n",
    "```\n",
    "tuple1 = (11, [222, 33], 45, 56)\n",
    "```"
   ]
  },
  {
   "cell_type": "code",
   "execution_count": 101,
   "metadata": {},
   "outputs": [
    {
     "data": {
      "text/plain": [
       "(11, [222, 33], 45, 56)"
      ]
     },
     "execution_count": 101,
     "metadata": {},
     "output_type": "execute_result"
    }
   ],
   "source": [
    "tuple1 = (11, [22, 33], 45, 56)\n",
    "tuple1 = list(tuple1)\n",
    "tuple1[1][0] = 222\n",
    "tuple1 = tuple(tuple1)\n",
    "tuple1"
   ]
  },
  {
   "cell_type": "markdown",
   "metadata": {},
   "source": [
    "### Exercise 5"
   ]
  },
  {
   "cell_type": "markdown",
   "metadata": {},
   "source": [
    "**Write a code that grabs the email website and prints out the domain:**\n",
    "\n",
    "**Example**    \n",
    "```\n",
    "my_name@domain.com\n",
    "```\n",
    "\n",
    "**Expected output:**\n",
    "```\n",
    "domain.com\n",
    "```\n"
   ]
  },
  {
   "cell_type": "code",
   "execution_count": 106,
   "metadata": {},
   "outputs": [
    {
     "data": {
      "text/plain": [
       "'mylangara.ca'"
      ]
     },
     "execution_count": 106,
     "metadata": {},
     "output_type": "execute_result"
    }
   ],
   "source": [
    "email = \"gsantosmachado00@mylangara.ca\"\n",
    "domain = email.split(\"@\")[1]\n",
    "domain"
   ]
  },
  {
   "cell_type": "markdown",
   "metadata": {},
   "source": [
    "### Exercise 6"
   ]
  },
  {
   "cell_type": "markdown",
   "metadata": {},
   "source": [
    "Consider the following python data structures and write one use case for each of them.\n",
    "- string\n",
    "- list\n",
    "- tuple\n",
    "- dictionary\n",
    "- set\n"
   ]
  },
  {
   "cell_type": "code",
   "execution_count": null,
   "metadata": {},
   "outputs": [],
   "source": [
    "#String - Common use for names and text.\n",
    "#List - Group element of any kind in one variable, could be use as a vactor to calculate something.\n",
    "#Tuple - Goup of element of only one kind, cannot be alterated. Can be used to keep sensitive information. (Sin number).\n",
    "#Dictionary - Group of element that have a key and the value, can be used to store combined information like movie, type, year.\n",
    "#Set - Cannot have 2 of the same element value, good to eliminate duplicates, good to be used as ID storage."
   ]
  },
  {
   "cell_type": "markdown",
   "metadata": {},
   "source": [
    "### Exercise 7"
   ]
  },
  {
   "cell_type": "markdown",
   "metadata": {},
   "source": [
    "Given the list nums = [5, 6, 7, 8, 9, 10, 11, 12], write the code that would index into the list and return the sublist [9, 10, 11]."
   ]
  },
  {
   "cell_type": "code",
   "execution_count": 111,
   "metadata": {},
   "outputs": [
    {
     "data": {
      "text/plain": [
       "[9, 10, 11]"
      ]
     },
     "execution_count": 111,
     "metadata": {},
     "output_type": "execute_result"
    }
   ],
   "source": [
    "nums = [5, 6, 7, 8, 9, 10, 11, 12]\n",
    "nums[4:7]"
   ]
  },
  {
   "cell_type": "markdown",
   "metadata": {},
   "source": [
    "### Exercise 8"
   ]
  },
  {
   "cell_type": "markdown",
   "metadata": {},
   "source": [
    "Using python indexing, change the name **`Jason** to **Oliver** in the below data structure"
   ]
  },
  {
   "cell_type": "code",
   "execution_count": 124,
   "metadata": {},
   "outputs": [],
   "source": [
    "customers = [{'id':'1234','full_name': {'first_name': 'Jason', 'last_name': 'Smith'}},\n",
    "        {'id':'2345','full_name': {'first_name': 'Tom', 'last_name': 'Albert'}},\n",
    "        {'id':'3456','full_name': {'first_name': 'Martin', 'last_name': 'Arts'}}]"
   ]
  },
  {
   "cell_type": "code",
   "execution_count": 145,
   "metadata": {},
   "outputs": [
    {
     "data": {
      "text/plain": [
       "[{'id': '1234', 'full_name': {'first_name': 'Oliver', 'last_name': 'Smith'}},\n",
       " {'id': '2345', 'full_name': {'first_name': 'Tom', 'last_name': 'Albert'}},\n",
       " {'id': '3456', 'full_name': {'first_name': 'Martin', 'last_name': 'Arts'}}]"
      ]
     },
     "execution_count": 145,
     "metadata": {},
     "output_type": "execute_result"
    }
   ],
   "source": [
    "customers[0]['full_name']['first_name'] = \"Oliver\"\n",
    "\n",
    "customers"
   ]
  },
  {
   "cell_type": "markdown",
   "metadata": {},
   "source": [
    "### Exercise 9"
   ]
  },
  {
   "cell_type": "markdown",
   "metadata": {},
   "source": [
    "Given the below python list, display the list in the following order:\n",
    "\n",
    "```\n",
    "my_list = [100, 200, 300, 400, 500]\n",
    "```\n",
    "\n",
    "**Expected output:**\n",
    "```\n",
    "my_list = [500, 400, 300, 200, 100]\n",
    "```\n"
   ]
  },
  {
   "cell_type": "code",
   "execution_count": 151,
   "metadata": {},
   "outputs": [
    {
     "name": "stdout",
     "output_type": "stream",
     "text": [
      "[100, 200, 300, 400, 500]\n",
      "[500, 400, 300, 200, 100]\n"
     ]
    }
   ],
   "source": [
    "my_list = [100, 200, 300, 400, 500]\n",
    "print(my_list)\n",
    "print(my_list[::-1])"
   ]
  },
  {
   "cell_type": "markdown",
   "metadata": {},
   "source": [
    "### Exercise 10"
   ]
  },
  {
   "cell_type": "markdown",
   "metadata": {},
   "source": [
    "Create a string variable with your full name in it, with your first and last name (and any middle names) seperated by a space. Split the string into a list, and print out your surname. \n",
    "\n"
   ]
  },
  {
   "cell_type": "code",
   "execution_count": 154,
   "metadata": {},
   "outputs": [
    {
     "data": {
      "text/plain": [
       "'Machado'"
      ]
     },
     "execution_count": 154,
     "metadata": {},
     "output_type": "execute_result"
    }
   ],
   "source": [
    "name = 'Guilherme Santos Machado'\n",
    "name_list = name.split(' ')\n",
    "name_list[-1]"
   ]
  }
 ],
 "metadata": {
  "anaconda-cloud": {},
  "kernelspec": {
   "display_name": "Python 3 (ipykernel)",
   "language": "python",
   "name": "python3"
  },
  "language_info": {
   "codemirror_mode": {
    "name": "ipython",
    "version": 3
   },
   "file_extension": ".py",
   "mimetype": "text/x-python",
   "name": "python",
   "nbconvert_exporter": "python",
   "pygments_lexer": "ipython3",
   "version": "3.9.12"
  }
 },
 "nbformat": 4,
 "nbformat_minor": 1
}
