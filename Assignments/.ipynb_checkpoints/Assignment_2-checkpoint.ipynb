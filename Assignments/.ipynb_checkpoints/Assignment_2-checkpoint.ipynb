{
 "cells": [
  {
   "cell_type": "markdown",
   "metadata": {},
   "source": [
    "\n",
    "\n",
    "# Assignment 2 - Python Basics\n",
    "\n",
    "\n"
   ]
  },
  {
   "cell_type": "markdown",
   "metadata": {},
   "source": [
    "### A note for this assignment\n",
    "\n",
    "Submit this notebook with your answers included below each question.\n",
    "\n",
    "\n",
    "| Exercise | Point |\n",
    "| --- | --- |\n",
    "| 1 | 5 |\n",
    "| 2 | 5 |\n",
    "| 3 | 5 |\n",
    "| 4 | 5 |\n",
    "| 5 | 10 |\n",
    "| 6 | 10 |\n",
    "| 7 | 10 |\n",
    "| 8 | 10 |\n",
    "| 9 | 10 |\n",
    "| 10| 5 |\n",
    "| 11| 5 |\n",
    "| 12 | 10 |\n",
    "| 13 | 5 |\n",
    "|14 | 5 |\n",
    "| **Total** | **100** |\n"
   ]
  },
  {
   "cell_type": "markdown",
   "metadata": {},
   "source": [
    "### Note: To get the full mark, you need to write docstring for all of your functions."
   ]
  },
  {
   "cell_type": "markdown",
   "metadata": {},
   "source": [
    "### Exercise 1"
   ]
  },
  {
   "cell_type": "markdown",
   "metadata": {},
   "source": [
    "- Why do we need to use functions in python?\n",
    "- What is the diffrence between positional argument and keyword argument in python?"
   ]
  },
  {
   "cell_type": "code",
   "execution_count": null,
   "metadata": {},
   "outputs": [],
   "source": [
    "#1 - Functions can safe time and computer memory, plus it is a good way to speed any upgrade on the code.\n",
    "\n",
    "#2 - In a positional argument the position matters when the function is called, the keyword argument is a function with a name label."
   ]
  },
  {
   "cell_type": "markdown",
   "metadata": {},
   "source": [
    "### Exercise 2"
   ]
  },
  {
   "cell_type": "markdown",
   "metadata": {},
   "source": [
    "**Create a function that grabs the name of the person and returns a greeting message as below. Please ensure the name of the person is capitalized. Provide one test case for your function.**\n",
    "\n",
    "```\n",
    "For example, passing \"Nasim\" or \"nasim\" would return:\n",
    "\n",
    "`\"Hello NASIM, Welcome to Canada!\"`\n",
    "```"
   ]
  },
  {
   "cell_type": "code",
   "execution_count": 1,
   "metadata": {},
   "outputs": [
    {
     "name": "stdout",
     "output_type": "stream",
     "text": [
      "Hello Guilherme, Welcome to Canada!\n"
     ]
    }
   ],
   "source": [
    "def function_name(name):#Create function name and parameter.\n",
    "    print(f\"Hello {name}, Welcome to Canada!\")#Print defaut frase with variable.\n",
    "    \n",
    "function_name(\"Guilherme\") #Calling function passing parameter."
   ]
  },
  {
   "cell_type": "markdown",
   "metadata": {},
   "source": [
    "### Exercise 3\n"
   ]
  },
  {
   "cell_type": "markdown",
   "metadata": {},
   "source": [
    "**Create a basic function that returns True if the word 'cat' is contained in the input string. Don't worry about edge cases like a punctuation being attached to the word cat, but do account for capitalization. Provide one test case for your function.**"
   ]
  },
  {
   "cell_type": "code",
   "execution_count": 31,
   "metadata": {},
   "outputs": [
    {
     "data": {
      "text/plain": [
       "True"
      ]
     },
     "execution_count": 31,
     "metadata": {},
     "output_type": "execute_result"
    }
   ],
   "source": [
    "def check_string(frase): #Create function to get the string in parameter.\n",
    "    frase = frase.lower() #Make the string all in lower for check.\n",
    "    if \"cat\" in frase: #Create a if to return \"True\" in cat existis in the string.\n",
    "        return True #Return True if the code falls in this area.\n",
    "    \n",
    "check_string(\"aCata\") #Call function to check string."
   ]
  },
  {
   "cell_type": "markdown",
   "metadata": {},
   "source": [
    "### Exercise 4"
   ]
  },
  {
   "cell_type": "markdown",
   "metadata": {},
   "source": [
    "**Create a function that counts the number of times the word \"python\" occurs in a string. Again ignore edge cases. Provide one test case for your funciton.**"
   ]
  },
  {
   "cell_type": "code",
   "execution_count": 52,
   "metadata": {},
   "outputs": [
    {
     "data": {
      "text/plain": [
       "5"
      ]
     },
     "execution_count": 52,
     "metadata": {},
     "output_type": "execute_result"
    }
   ],
   "source": [
    "def check_string(frase): #Create function to get the string in parameter.\n",
    "    frase = frase.lower() #Make the string all in lower for check.\n",
    "    num = frase.count(\"python\") #Reate function to get the number o times the value repeat.\n",
    "    return num #Return the amount of times the word apears.\n",
    "    \n",
    "check_string(\"No pythonpythonpythonpythonPythOn\") #Call function passing the parameter."
   ]
  },
  {
   "cell_type": "markdown",
   "metadata": {},
   "source": [
    "### Exercise 5"
   ]
  },
  {
   "cell_type": "markdown",
   "metadata": {},
   "source": [
    "**You are driving a little too fast, and a police officer stops you. Write a function\n",
    "  to return one of 3 possible results: \"No ticket\", \"Small ticket\", or \"Big Ticket\". \n",
    "  If your speed is 60 or less, the result is \"No Ticket\". If speed is between 61 \n",
    "  and 80 inclusive, the result is \"Small Ticket\". If speed is 81 or more, the result is \"Big    Ticket\". Unless it is your birthday (encoded as a boolean value in the parameters of the function) -- on your birthday, your speed can be 5 higher in all \n",
    "  cases.**"
   ]
  },
  {
   "cell_type": "code",
   "execution_count": 58,
   "metadata": {},
   "outputs": [
    {
     "name": "stdout",
     "output_type": "stream",
     "text": [
      "Small ticket, speed is 81.\n"
     ]
    }
   ],
   "source": [
    "def ticket_function(speed, birthday): #Create function to get the string in parameter.\n",
    "    if birthday == False: #If the birthday is false.\n",
    "        if speed <= 60: #Filter for no ticket.\n",
    "            print(f\"No ticket, speed is {speed}.\")\n",
    "        elif (speed > 60 and speed <=80): #Filter for small ticket.\n",
    "            print(f\"Small ticket, speed is {speed}.\")\n",
    "        elif speed >= 81: #Filter for big ticket.\n",
    "            print(f\"Big ticked, speed is {speed}\")\n",
    "    \n",
    "    \n",
    "    elif birthday == True:#If the birthday is false.\n",
    "        if speed <= 65:#Filter for no ticket.\n",
    "            print(f\"No ticket, speed is {speed}.\")\n",
    "        elif (speed > 65 and speed <=85): #Filter for small ticket.\n",
    "            print(f\"Small ticket, speed is {speed}.\")\n",
    "        elif speed >= 86:#Filter for big ticket.\n",
    "            print(f\"Big ticked, speed is {speed}\")\n",
    "            \n",
    "ticket_function(81,1)#Call function passing the parameter."
   ]
  },
  {
   "cell_type": "markdown",
   "metadata": {},
   "source": [
    "### Exercise 6"
   ]
  },
  {
   "cell_type": "markdown",
   "metadata": {},
   "source": [
    "**Define a function that takes a number, returns True if the sum of the cubes of its digits is equal to the number itself, else returns False. For instance, passing the number 153 to your function should return True.**\n"
   ]
  },
  {
   "cell_type": "code",
   "execution_count": 63,
   "metadata": {},
   "outputs": [
    {
     "name": "stdout",
     "output_type": "stream",
     "text": [
      "True\n"
     ]
    }
   ],
   "source": [
    "def check_number(num): #Create function to get the string in parameter.\n",
    "    sum = 0 #Create a variable to keep the sum value.\n",
    "    temp = num #Create a variable to work with the value of the parameter.\n",
    "    while temp > 0:\n",
    "       digit = temp % 10 #Get each of the digit in the parameter\n",
    "       sum += digit ** 3 #Put the digit value on the power of 3.\n",
    "       temp //= 10 #Filter to exit loop when there is no more digit.\n",
    "    if num == sum: #Filter for the True result.\n",
    "       print(\"True\")\n",
    "    else: #Filter for the False result.\n",
    "       print(\"False\")\n",
    "\n",
    "check_number(153) #Call of the function."
   ]
  },
  {
   "cell_type": "markdown",
   "metadata": {},
   "source": [
    "### Exercise 7"
   ]
  },
  {
   "cell_type": "markdown",
   "metadata": {},
   "source": [
    "**Given the 3 lists below contained within list_1, write a nested loop to print out each item one at at time.**\n"
   ]
  },
  {
   "cell_type": "code",
   "execution_count": 64,
   "metadata": {},
   "outputs": [],
   "source": [
    "list_1 = [[\"Sam\", \"Sarah\", \"Darcy\"], [34, 32, 30], [\"Ontario\", \"Quebec\", \"British Columbia\"]]"
   ]
  },
  {
   "cell_type": "code",
   "execution_count": 66,
   "metadata": {},
   "outputs": [
    {
     "name": "stdout",
     "output_type": "stream",
     "text": [
      "Sam\n",
      "Sarah\n",
      "Darcy\n",
      "34\n",
      "32\n",
      "30\n",
      "Ontario\n",
      "Quebec\n",
      "British Columbia\n"
     ]
    }
   ],
   "source": [
    "for i in list_1: #Run all the values (each list would be printed in each line with only this code.)\n",
    "    for item in i:#Run each value of each list inside the list_1 to print only one value for each line.\n",
    "        print(item)#Print value"
   ]
  },
  {
   "cell_type": "markdown",
   "metadata": {},
   "source": [
    "### Exercise 8"
   ]
  },
  {
   "cell_type": "markdown",
   "metadata": {},
   "source": [
    "**Students in a class receive their grades as Pass/Fail. Scores of 60 or more (out of 100) mean that the grade is \"Pass\". For lower scores, the grade is \"Fail\". In addition, scores above 95 (not included) are graded as \"Top Score\". Write a function so that it returns the proper grade. Make sure to write the proper docstring.**"
   ]
  },
  {
   "cell_type": "markdown",
   "metadata": {},
   "source": [
    "Test out your function:\n",
    "```\n",
    "print(exam_grade(65))\n",
    "print(exam_grade(55)) \n",
    "print(exam_grade(60))\n",
    "print(exam_grade(95)) \n",
    "print(exam_grade(100)) \n",
    "print(exam_grade(0))\n",
    "```\n",
    "    "
   ]
  },
  {
   "cell_type": "code",
   "execution_count": 86,
   "metadata": {},
   "outputs": [
    {
     "name": "stdout",
     "output_type": "stream",
     "text": [
      "Fail!\n"
     ]
    }
   ],
   "source": [
    "def exam_grade(grade):#Create function to get the string in parameter.\n",
    "    if grade>95:#Filter for the top score (Above 95%)\n",
    "        status = \"Top Score!\"\n",
    "    elif (grade >=60 and grade <=95): #Filter for the passing grades, (>= 60).\n",
    "        status = \"Pass!\"\n",
    "    elif grade < 60: #Filter for the fail grade (<60).\n",
    "        status = \"Fail!\"\n",
    "    return status\n",
    "\n",
    "\n",
    "print(exam_grade(0))"
   ]
  },
  {
   "cell_type": "markdown",
   "metadata": {},
   "source": [
    "### Exercise 9"
   ]
  },
  {
   "cell_type": "markdown",
   "metadata": {},
   "source": [
    "For this exercise, you will be using the [Wine reviews Dataset](https://www.kaggle.com/zynicide/wine-reviews) from Kaggle!. Please download the \"winemag-data-130k-v2.csv\" file from kaggle and complete the below exercises. "
   ]
  },
  {
   "cell_type": "markdown",
   "metadata": {},
   "source": [
    "1- Read .csv file as a dataframe.\n",
    "\n",
    "2- Check the head of the DataFrame.\n",
    "\n",
    "3- Find out the number of rows and columns in the dataset.\n",
    "\n",
    "4- Select the records with index labels 10, 20, 13, 15, and 18, assigning the result to the variable sample_reviews.\n",
    "\n",
    "5- Create a variable df containing the country, price, description, and province columns of the records with the index labels 0, 1, 2, and 50. \n",
    "\n",
    "6- Find out the number of null/na values in each column.\n",
    "\n",
    "7- Drop all the rows where region_1 is null.\n",
    "\n",
    "8- Create a DataFrame american_wines containing reviews of wines made in US. "
   ]
  },
  {
   "cell_type": "code",
   "execution_count": 85,
   "metadata": {},
   "outputs": [
    {
     "name": "stdout",
     "output_type": "stream",
     "text": [
      "   Unnamed: 0   country                                        description  \\\n",
      "0           0     Italy  Aromas include tropical fruit, broom, brimston...   \n",
      "1           1  Portugal  This is ripe and fruity, a wine that is smooth...   \n",
      "2           2        US  Tart and snappy, the flavors of lime flesh and...   \n",
      "3           3        US  Pineapple rind, lemon pith and orange blossom ...   \n",
      "4           4        US  Much like the regular bottling from 2012, this...   \n",
      "\n",
      "                          designation  points  price           province  \\\n",
      "0                        Vulkà Bianco      87    NaN  Sicily & Sardinia   \n",
      "1                            Avidagos      87   15.0              Douro   \n",
      "2                                 NaN      87   14.0             Oregon   \n",
      "3                Reserve Late Harvest      87   13.0           Michigan   \n",
      "4  Vintner's Reserve Wild Child Block      87   65.0             Oregon   \n",
      "\n",
      "              region_1           region_2         taster_name  \\\n",
      "0                 Etna                NaN       Kerin O’Keefe   \n",
      "1                  NaN                NaN          Roger Voss   \n",
      "2    Willamette Valley  Willamette Valley        Paul Gregutt   \n",
      "3  Lake Michigan Shore                NaN  Alexander Peartree   \n",
      "4    Willamette Valley  Willamette Valley        Paul Gregutt   \n",
      "\n",
      "  taster_twitter_handle                                              title  \\\n",
      "0          @kerinokeefe                  Nicosia 2013 Vulkà Bianco  (Etna)   \n",
      "1            @vossroger      Quinta dos Avidagos 2011 Avidagos Red (Douro)   \n",
      "2           @paulgwine       Rainstorm 2013 Pinot Gris (Willamette Valley)   \n",
      "3                   NaN  St. Julian 2013 Reserve Late Harvest Riesling ...   \n",
      "4           @paulgwine   Sweet Cheeks 2012 Vintner's Reserve Wild Child...   \n",
      "\n",
      "          variety               winery  \n",
      "0     White Blend              Nicosia  \n",
      "1  Portuguese Red  Quinta dos Avidagos  \n",
      "2      Pinot Gris            Rainstorm  \n",
      "3        Riesling           St. Julian  \n",
      "4      Pinot Noir         Sweet Cheeks  \n",
      "Number of columns: 129971\n"
     ]
    }
   ],
   "source": [
    "import pandas as pd\n",
    "\n",
    "#1\n",
    "data = pd.read_csv('winemag-data-130k-v2.csv')#Read local file.\n",
    "#2\n",
    "print(data.head()) #Get the head of the table.\n",
    "#3\n",
    "print(f\"Number of columns: {data.shape[0]}\")#Get the number of rows.\n",
    "#4\n",
    "sample_reviews = data.loc[[10, 20, 13, 15, 18]] #filter the data with the the index sequence.\n",
    "#5\n",
    "df = data[['country','price', 'description', 'province']] #Create a new df with the columns requested.\n",
    "df = df.loc[[0, 1, 2, 50]] #Set the dataset with the intex requested.\n",
    "#6\n",
    "data.isna().sum() #Sum the null/na values from each column.\n",
    "#7\n",
    "data = data.dropna(subset=['region_1']) #Drop the null/NaN values from the column region_1.\n",
    "#8\n",
    "american_wines = data #Copy the dataset to a new variable.\n",
    "american_wines = american_wines[american_wines.country == 'US'] #Drop all contry that is not US."
   ]
  },
  {
   "cell_type": "markdown",
   "metadata": {},
   "source": [
    "### Exercise 10"
   ]
  },
  {
   "cell_type": "markdown",
   "metadata": {},
   "source": [
    "Define a function that takes a list of lists and returns a new list of lists with a student's name and their average grade in each sublist."
   ]
  },
  {
   "cell_type": "markdown",
   "metadata": {},
   "source": [
    "Example: \n",
    "```\n",
    "average_grade([['Alice', 60, 88, 44, 70], ['Joe', 44, 100, 80, 60, 50]])\n",
    "```\n",
    "\n",
    "Exepected output:\n",
    "```\n",
    "[['Alice', 65.5], ['Joe', 66.8]]\n",
    "```"
   ]
  },
  {
   "cell_type": "code",
   "execution_count": 133,
   "metadata": {},
   "outputs": [
    {
     "data": {
      "text/plain": [
       "[['Alice', 65.5], ['Joe', 66.8]]"
      ]
     },
     "execution_count": 133,
     "metadata": {},
     "output_type": "execute_result"
    }
   ],
   "source": [
    "import statistics as stats\n",
    "\n",
    "average_grade = ([['Alice', 60, 88, 44, 70], ['Joe', 44, 100, 80, 60, 50]])\n",
    "average_grade\n",
    "\n",
    "def set_student(average_grade):\n",
    "    mtx = []\n",
    "    for student in average_grade:\n",
    "        name = student[0]\n",
    "        student.remove(name)\n",
    "        avg = stats.mean(student)\n",
    "        new_student = [name, avg]\n",
    "        mtx.append(new_student)\n",
    "    return mtx\n",
    "    \n",
    "set_student(average_grade)"
   ]
  },
  {
   "cell_type": "markdown",
   "metadata": {},
   "source": [
    "### Exercise 11"
   ]
  },
  {
   "cell_type": "markdown",
   "metadata": {},
   "source": [
    "Sort a tuple of tuples by 2nd item\n",
    "\n",
    "```\n",
    "tuple1 = (('a', 23),('b', 37),('c', 11), ('d',29))\n",
    "```\n",
    "Expected output:\n",
    "```\n",
    "(('c', 11), ('a', 23), ('d', 29), ('b', 37))\n",
    "```"
   ]
  },
  {
   "cell_type": "code",
   "execution_count": 134,
   "metadata": {},
   "outputs": [
    {
     "data": {
      "text/plain": [
       "[('c', 11), ('a', 23), ('d', 29), ('b', 37)]"
      ]
     },
     "execution_count": 134,
     "metadata": {},
     "output_type": "execute_result"
    }
   ],
   "source": [
    "tuple1 = (('a', 23),('b', 37),('c', 11), ('d',29))\n",
    "\n",
    "new_tuple = sorted(tuple1, key=lambda t: t[1])\n",
    "new_tuple"
   ]
  },
  {
   "cell_type": "markdown",
   "metadata": {},
   "source": [
    "## Exercise 12"
   ]
  },
  {
   "cell_type": "markdown",
   "metadata": {},
   "source": [
    "a) What is the meaning of `recursion` in python programming? Provide one example of a function that recursion would be useful?"
   ]
  },
  {
   "cell_type": "code",
   "execution_count": 136,
   "metadata": {},
   "outputs": [
    {
     "name": "stdout",
     "output_type": "stream",
     "text": [
      "1\n",
      "3\n",
      "6\n",
      "10\n",
      "15\n",
      "21\n"
     ]
    },
    {
     "data": {
      "text/plain": [
       "21"
      ]
     },
     "execution_count": 136,
     "metadata": {},
     "output_type": "execute_result"
    }
   ],
   "source": [
    "#Recursion function is a function that can calls itself.\n",
    "\n",
    "def recursion_func(k): #Create a function.\n",
    "  if(k>0): #Filter the parameter value.\n",
    "    result = k+recursion_func(k-1) #Create a variable that will add the parameter value to the function itself.\n",
    "    print(result) #Print the result.\n",
    "  else: #Second filter of the parameter value.\n",
    "    result = 0 #Set new result.\n",
    "  return result #Return the variable result.\n",
    "recursion_func(6) #Call the function."
   ]
  },
  {
   "cell_type": "markdown",
   "metadata": {},
   "source": [
    "b) The Ackermann function, A(m, n), is defined:*\n",
    "\n",
    "    \n",
    "$$A(m,n)={\\begin{cases}n+1&{\\mbox{if }}m=0\\\\A(m-1,1)&{\\mbox{if }}m>0{\\mbox{ and }}n=0\\\\A(m-1,A(m,n-1))&{\\mbox{if }}m>0{\\mbox{ and }}n>0.\\end{cases}}$$"
   ]
  },
  {
   "cell_type": "markdown",
   "metadata": {},
   "source": [
    "*See http://en.wikipedia.org/wiki/Ackermann_function. Write a function named `ack` that evaluates the Ackermann function. Use your function to evaluate `ack(3, 4)`, which should be 125. What happens for larger values of `m` and `n`?"
   ]
  },
  {
   "cell_type": "code",
   "execution_count": 1,
   "metadata": {},
   "outputs": [
    {
     "data": {
      "text/plain": [
       "125"
      ]
     },
     "execution_count": 1,
     "metadata": {},
     "output_type": "execute_result"
    }
   ],
   "source": [
    "def ack(m, n): #Create the function.\n",
    "    if m == 0:\n",
    "        return n + 1\n",
    "    elif n == 0:\n",
    "        return ack(m - 1, 1)\n",
    "    else:\n",
    "        return ack(m - 1, ack(m, n - 1))\n",
    "    \n",
    "    \n",
    "ack(3, 4) #Call the function.\n",
    "\n",
    "\n",
    "#For large numbers, the complexity of the function actually kill the kernel."
   ]
  },
  {
   "cell_type": "markdown",
   "metadata": {},
   "source": [
    "# Exercise 13"
   ]
  },
  {
   "cell_type": "markdown",
   "metadata": {},
   "source": [
    "Write a function called `is_reverse` that takes two words as arguments and check whether the words are reverse of each other. For instance, the result of running this code \n",
    "\n",
    "`is_reverse(\"stop\", \"pots\")`\n",
    "\n",
    "should be `True`."
   ]
  },
  {
   "cell_type": "code",
   "execution_count": 11,
   "metadata": {},
   "outputs": [
    {
     "data": {
      "text/plain": [
       "True"
      ]
     },
     "execution_count": 11,
     "metadata": {},
     "output_type": "execute_result"
    }
   ],
   "source": [
    "def is_reverse(a,b): #Create a function.\n",
    "    if a == b[::-1]: #Filter value of a to the inverted b.\n",
    "        status = True\n",
    "    else: #Second filter to deny equality.\n",
    "        status = False\n",
    "    return status\n",
    "\n",
    "is_reverse('stop', 'pots') #Call function."
   ]
  },
  {
   "cell_type": "markdown",
   "metadata": {},
   "source": [
    "# Exercise 14\n",
    "a) What is the meaning of `list comprehension` in python? Provide one example.\n",
    "\n",
    "b) Answer the below question using list comprehension.\n",
    "Consider a list of strings, like this: ['one', 'two', 'three', 'four', 'five', 'six']. Write a list comprehension that produces a list with tuples where the first element of the tuple is the length of any element in the initial list that has more than 3 characters and the second elemnt of the tuple is showing the length of the element. "
   ]
  },
  {
   "cell_type": "code",
   "execution_count": 22,
   "metadata": {},
   "outputs": [
    {
     "name": "stdout",
     "output_type": "stream",
     "text": [
      "[0, 2, 4, 6, 8, 10]\n"
     ]
    }
   ],
   "source": [
    "# A) Fast way to create a list from a string or another list.\n",
    "list = [i for i in range(11) if i % 2 == 0] #Create a list of evens.\n",
    "print(list)"
   ]
  },
  {
   "cell_type": "code",
   "execution_count": 36,
   "metadata": {},
   "outputs": [
    {
     "data": {
      "text/plain": [
       "(5, 8)"
      ]
     },
     "execution_count": 36,
     "metadata": {},
     "output_type": "execute_result"
    }
   ],
   "source": [
    "def create_tuple(list):\n",
    "    my_t=[]\n",
    "    for value in list:\n",
    "        num = len(value)\n",
    "        my_t.append(num)\n",
    "        \n",
    "    return tuple(my_t)\n",
    "\n",
    "\n",
    "l1 = ['carro','cachorro']\n",
    "create_tuple(l1)"
   ]
  }
 ],
 "metadata": {
  "anaconda-cloud": {},
  "kernelspec": {
   "display_name": "Python 3 (ipykernel)",
   "language": "python",
   "name": "python3"
  },
  "language_info": {
   "codemirror_mode": {
    "name": "ipython",
    "version": 3
   },
   "file_extension": ".py",
   "mimetype": "text/x-python",
   "name": "python",
   "nbconvert_exporter": "python",
   "pygments_lexer": "ipython3",
   "version": "3.9.12"
  }
 },
 "nbformat": 4,
 "nbformat_minor": 1
}
