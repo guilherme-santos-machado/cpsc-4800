{
 "cells": [
  {
   "cell_type": "markdown",
   "metadata": {},
   "source": [
    "\n",
    "\n",
    "<h1><center>Midterm- CPSC 4800</h2></center>\n",
    "\n",
    "\n",
    "\n",
    "<h3><center> Python</h3></center>"
   ]
  },
  {
   "cell_type": "markdown",
   "metadata": {},
   "source": [
    "## Instructions\n",
    "\n",
    "1. You should answer questions in this Jupyter notebook file and submit the file on D2L.\n",
    "2. The exam is open book. You can look at all the course materials, labs, solutions, etc on D2L. However, you are not allowed to communicate or receive help from anyone else during the exam. \n",
    "3. The work submitted must be your own. Plagiarism and cheating will be dealt with very seriously.\n",
    "4.\tIf the instructor realizes that a student cheated during the exam, he/she will receive a grade of zero for the final.\n",
    "\n",
    "**Warning**: \n",
    "By submitting an exam file, you promise that the code you have submitted is your own and you did not communicate with or receive help from anyone else.\n"
   ]
  },
  {
   "cell_type": "markdown",
   "metadata": {},
   "source": [
    "| Question | Point |\n",
    "| --- | --- |\n",
    "| 1 | 10 |\n",
    "| 2 | 10 |\n",
    "| 3 | 10 |\n",
    "| 4 | 10 |\n",
    "| 5 |10 |\n",
    "| 6 | 10 |\n",
    "| 7 | 10 |\n",
    "| 8 | 10 |\n",
    "| 9 | 10 |\n",
    "|10 | 10 |\n",
    "| **Total** | **100** |"
   ]
  },
  {
   "cell_type": "markdown",
   "metadata": {},
   "source": [
    "## Question 1"
   ]
  },
  {
   "cell_type": "markdown",
   "metadata": {},
   "source": [
    " Suppose you have list of prices for a certain products. Your job is to find the difference between the lowest price product and highest priced product.\n",
    "#### For example:\n",
    "#### Input: 25,10,5,30,2\n",
    "#### Output: 28\n",
    "\n",
    "\n"
   ]
  },
  {
   "cell_type": "code",
   "execution_count": 3,
   "metadata": {},
   "outputs": [
    {
     "data": {
      "text/plain": [
       "28"
      ]
     },
     "execution_count": 3,
     "metadata": {},
     "output_type": "execute_result"
    }
   ],
   "source": [
    "main=[25,10,5,30,2]\n",
    "a = min(main)\n",
    "b = max(main)\n",
    "b-a"
   ]
  },
  {
   "cell_type": "markdown",
   "metadata": {},
   "source": [
    "## Question 2"
   ]
  },
  {
   "cell_type": "markdown",
   "metadata": {},
   "source": [
    "You are given a task to create a mask for sending certain message.Write a code that replaces all the odd places in the given message string with * sign.\n",
    "#### For example\n",
    "#### input: Python is the best programming language\n",
    "#### output: P * t * o * "
   ]
  },
  {
   "cell_type": "code",
   "execution_count": 57,
   "metadata": {},
   "outputs": [
    {
     "name": "stdout",
     "output_type": "stream",
     "text": [
      "P*t*o*\n"
     ]
    }
   ],
   "source": [
    "word = 'Python'\n",
    "new = ''\n",
    "for i in range (len(word)):\n",
    "    if i%2==0:\n",
    "        new = new+word[i]\n",
    "    else:\n",
    "        new = new+'*'\n",
    "    \n",
    "print(new)"
   ]
  },
  {
   "cell_type": "markdown",
   "metadata": {},
   "source": [
    "## Question 3"
   ]
  },
  {
   "cell_type": "markdown",
   "metadata": {},
   "source": [
    "Suppose you have dictionary of employees with employee name and age:\n",
    "\n",
    "{\"Bernita Ahner\": 12, \"Kristie Marsico\": 11, \n",
    "                      \"Sara Pardee\": 14, \"Fallon Fabiano\": 11, \n",
    "                      \"Nidia Dominique\": 15}\n",
    "\n",
    "Write a function to find the oldest employee and display his name and age. Also tell how many years are left for retirement if retirement age is 59. Write docstring for your function\n",
    "\n",
    "**output:**\n",
    "####              Name = Nidia Dominique\n",
    "####              Age = 15\n",
    "####              Years to retirement= 44"
   ]
  },
  {
   "cell_type": "code",
   "execution_count": 33,
   "metadata": {},
   "outputs": [
    {
     "name": "stdout",
     "output_type": "stream",
     "text": [
      "15\n"
     ]
    }
   ],
   "source": [
    "l={\"Bernita Ahner\": 12, \"Kristie Marsico\": 11, \"Sara Pardee\": 14, \"Fallon Fabiano\": 11, \"Nidia Dominique\": 15}\n",
    "def oldest(l):\n",
    "    age = max(l.values())\n",
    "    print(age)\n",
    "    \n",
    "    \n",
    "oldest(l)"
   ]
  },
  {
   "cell_type": "markdown",
   "metadata": {},
   "source": [
    "## Question 4"
   ]
  },
  {
   "cell_type": "markdown",
   "metadata": {},
   "source": [
    "Given the list:\n",
    "\n",
    "```\n",
    "my_list = [\"course_1\", \"course_2\", [\"programming\", [\"python\", \"SAS\", \"R\"]]]\n",
    "```\n",
    "\n",
    "Write the code that would index into the list and return the sublist [\"SAS\", \"R\"]."
   ]
  },
  {
   "cell_type": "code",
   "execution_count": 37,
   "metadata": {},
   "outputs": [
    {
     "data": {
      "text/plain": [
       "['SAS', 'R']"
      ]
     },
     "execution_count": 37,
     "metadata": {},
     "output_type": "execute_result"
    }
   ],
   "source": [
    "my_list = [\"course_1\", \"course_2\", [\"programming\", [\"python\", \"SAS\", \"R\"]]]\n",
    "my_list[2][1][1:3]"
   ]
  },
  {
   "cell_type": "markdown",
   "metadata": {},
   "source": [
    "## Question 5"
   ]
  },
  {
   "cell_type": "markdown",
   "metadata": {},
   "source": [
    "Using python indexing, change key_3  **Gaby** to **Raymon** in the below data structure"
   ]
  },
  {
   "cell_type": "code",
   "execution_count": 73,
   "metadata": {},
   "outputs": [
    {
     "data": {
      "text/plain": [
       "[{'id': '1234', 'key_1': {'key_2': 'Jason', 'key_3': 'Smith'}},\n",
       " {'id': '2345', 'key_1': {'key_2': 'Tom', 'key_3': 'Albert'}},\n",
       " {'id': '3456', 'key_1': {'key_2': 'Martin', 'key_3': 'Arts'}},\n",
       " {'id': '6789', 'key_1': {'key_2': 'Julie', 'key_3': 'Raymon'}}]"
      ]
     },
     "execution_count": 73,
     "metadata": {},
     "output_type": "execute_result"
    }
   ],
   "source": [
    "my_dictionary = [{'id':'1234','key_1': {'key_2': 'Jason', 'key_3': 'Smith'}},\n",
    "        {'id':'2345','key_1': {'key_2': 'Tom', 'key_3': 'Albert'}},\n",
    "        {'id':'3456','key_1': {'key_2': 'Martin', 'key_3': 'Arts'}},\n",
    "             {'id':'6789','key_1': {'key_2': 'Julie', 'key_3': 'Gaby'}}]\n",
    "\n",
    "my_dictionary[3]['key_1']['key_3'] = 'Raymon'\n",
    "my_dictionary"
   ]
  },
  {
   "cell_type": "markdown",
   "metadata": {},
   "source": [
    "## Question 6"
   ]
  },
  {
   "cell_type": "markdown",
   "metadata": {},
   "source": [
    "Write a function order_numbers that compares two numbers and return them in the increasing order. Write docstring for your function. Test out your function per the expected output.\n",
    "\n",
    "Expected output:\n",
    "\n",
    "```\n",
    "order_numbers(10, 5)\n",
    "(5, 10)\n",
    "```"
   ]
  },
  {
   "cell_type": "code",
   "execution_count": 81,
   "metadata": {},
   "outputs": [
    {
     "data": {
      "text/plain": [
       "(5, 10)"
      ]
     },
     "execution_count": 81,
     "metadata": {},
     "output_type": "execute_result"
    }
   ],
   "source": [
    "def order_numbers(a,b):\n",
    "    new_l = [a,b]\n",
    "    new_l.sort()\n",
    "    return(tuple(new_l))\n",
    "    \n",
    "    \n",
    "order_numbers(10, 5)"
   ]
  },
  {
   "cell_type": "markdown",
   "metadata": {},
   "source": [
    "## Question 7"
   ]
  },
  {
   "cell_type": "markdown",
   "metadata": {},
   "source": [
    "Write a function countChar that takes as its arguments two strings, s and c, and return the number of times the character c occurs in the string s. we wiil assume that c is always a string of length 1 (a single character). Here are some samples calls to this fucntion with the correct output given:\n",
    "\n",
    "```\n",
    ">> countChar(\"HELLO\", \"L\")\n",
    "2\n",
    ">>countChar (\"hello\", \"m\")\n",
    "0\n",
    ">> countChar(\"\", \"L\")\n",
    "0\n",
    "```\n",
    "\n",
    "To get the full points, you will need to write a nice docstring above the function that briefly describes what the funciton does and what its inputs and outputs are. You should also test your function according to all the above examples."
   ]
  },
  {
   "cell_type": "code",
   "execution_count": 85,
   "metadata": {},
   "outputs": [
    {
     "data": {
      "text/plain": [
       "2"
      ]
     },
     "execution_count": 85,
     "metadata": {},
     "output_type": "execute_result"
    }
   ],
   "source": [
    "def countChar(s,c):\n",
    "    '''This function will count a specific value in \"c\" and count how many time it will apperar in the\n",
    "    the variable \"s\".'''\n",
    "    num = s.count(c) \n",
    "    return num \n",
    "    \n",
    "countChar('hello', 'l')"
   ]
  },
  {
   "cell_type": "markdown",
   "metadata": {},
   "source": [
    "## Question 8"
   ]
  },
  {
   "cell_type": "markdown",
   "metadata": {},
   "source": [
    "Write a function that takes a list of numbers as its argument and return the average of the numbers.\n",
    "\n",
    "Here are some samples calls to this fucntion with the correct output given:\n",
    "\n",
    "```\n",
    ">> average([1, 2, 3, 4, 5, 6])\n",
    "3.5\n",
    ">>average([10, 20, 30])\n",
    "20.0\n",
    "```\n",
    "\n",
    "To get the full points, you will need to write a nice docstring above the function that briefly describes what the\n",
    "funciton does and what its inputs and outputs are. You should also test your function according to all the above examples."
   ]
  },
  {
   "cell_type": "code",
   "execution_count": 91,
   "metadata": {},
   "outputs": [
    {
     "data": {
      "text/plain": [
       "3.5"
      ]
     },
     "execution_count": 91,
     "metadata": {},
     "output_type": "execute_result"
    }
   ],
   "source": [
    "import statistics as sts\n",
    "l = [1, 2, 3, 4, 5, 6]\n",
    "def get_mean(l):\n",
    "    '''Get the list and return the mean of the list.'''\n",
    "    mean = sts.mean(l)\n",
    "    return mean\n",
    "get_mean(l)"
   ]
  },
  {
   "cell_type": "markdown",
   "metadata": {},
   "source": [
    "## Question 9"
   ]
  },
  {
   "cell_type": "markdown",
   "metadata": {},
   "source": [
    "Go through all the numbers up until 20 (including 20). Print \"your name\" for every number that’s divisible by 3, print your family name for every number divisible by 5, and print 'python' for every number divisible by 3 and by 5! If the number is not divisible either by 3 or 5, print a dash ('-')!\n",
    "\n"
   ]
  },
  {
   "cell_type": "code",
   "execution_count": 101,
   "metadata": {},
   "outputs": [
    {
     "name": "stdout",
     "output_type": "stream",
     "text": [
      "1\n",
      "2\n",
      "Machado\n",
      "4\n",
      "python\n",
      "Machado\n",
      "7\n",
      "8\n",
      "Machado\n",
      "python\n",
      "11\n",
      "Machado\n",
      "13\n",
      "14\n",
      "-\n",
      "16\n",
      "17\n",
      "Machado\n",
      "19\n",
      "python\n"
     ]
    }
   ],
   "source": [
    "for i in range(1,21):\n",
    "    if (i % 5 == 0) and (i%3==0):\n",
    "        print('-')\n",
    "    elif (i%3==0):\n",
    "        print('Machado')\n",
    "    elif (i % 5 == 0):\n",
    "        print('python')\n",
    "    else:\n",
    "        print(i)"
   ]
  },
  {
   "cell_type": "markdown",
   "metadata": {},
   "source": [
    "## Question 10"
   ]
  },
  {
   "cell_type": "markdown",
   "metadata": {},
   "source": [
    "- Import the  necesary libraries and read the csv file weatherHistory.csv\n",
    "\n",
    "- Print the head of the dataframe\n",
    "- Print the complete infomation of data  (Summary of the dataframe)\n",
    "- Which type of Weather has the maximum count in the dataset?(Weather type column is the summary column in the dataset)\n",
    "- What is the standard deviation of the wind speed?\n",
    "- Out of all the available records, which date has the lowest  humidity ?\n",
    "- Out of all records, how many records are equal to the median value of Apparent Temperature?"
   ]
  },
  {
   "cell_type": "markdown",
   "metadata": {},
   "source": []
  },
  {
   "cell_type": "code",
   "execution_count": 106,
   "metadata": {},
   "outputs": [
    {
     "data": {
      "text/html": [
       "<div>\n",
       "<style scoped>\n",
       "    .dataframe tbody tr th:only-of-type {\n",
       "        vertical-align: middle;\n",
       "    }\n",
       "\n",
       "    .dataframe tbody tr th {\n",
       "        vertical-align: top;\n",
       "    }\n",
       "\n",
       "    .dataframe thead th {\n",
       "        text-align: right;\n",
       "    }\n",
       "</style>\n",
       "<table border=\"1\" class=\"dataframe\">\n",
       "  <thead>\n",
       "    <tr style=\"text-align: right;\">\n",
       "      <th></th>\n",
       "      <th>Formatted Date</th>\n",
       "      <th>Summary</th>\n",
       "      <th>Precip Type</th>\n",
       "      <th>Temperature (C)</th>\n",
       "      <th>Apparent Temperature (C)</th>\n",
       "      <th>Humidity</th>\n",
       "      <th>Wind Speed (km/h)</th>\n",
       "      <th>Wind Bearing (degrees)</th>\n",
       "      <th>Visibility (km)</th>\n",
       "      <th>Loud Cover</th>\n",
       "      <th>Pressure (millibars)</th>\n",
       "      <th>Daily Summary</th>\n",
       "    </tr>\n",
       "  </thead>\n",
       "  <tbody>\n",
       "    <tr>\n",
       "      <th>0</th>\n",
       "      <td>2006-04-01 00:00:00.000 +0200</td>\n",
       "      <td>Partly Cloudy</td>\n",
       "      <td>rain</td>\n",
       "      <td>9.472222</td>\n",
       "      <td>7.388889</td>\n",
       "      <td>0.89</td>\n",
       "      <td>14.1197</td>\n",
       "      <td>251.0</td>\n",
       "      <td>15.8263</td>\n",
       "      <td>0.0</td>\n",
       "      <td>1015.13</td>\n",
       "      <td>Partly cloudy throughout the day.</td>\n",
       "    </tr>\n",
       "    <tr>\n",
       "      <th>1</th>\n",
       "      <td>2006-04-01 01:00:00.000 +0200</td>\n",
       "      <td>Partly Cloudy</td>\n",
       "      <td>rain</td>\n",
       "      <td>9.355556</td>\n",
       "      <td>7.227778</td>\n",
       "      <td>0.86</td>\n",
       "      <td>14.2646</td>\n",
       "      <td>259.0</td>\n",
       "      <td>15.8263</td>\n",
       "      <td>0.0</td>\n",
       "      <td>1015.63</td>\n",
       "      <td>Partly cloudy throughout the day.</td>\n",
       "    </tr>\n",
       "    <tr>\n",
       "      <th>2</th>\n",
       "      <td>2006-04-01 02:00:00.000 +0200</td>\n",
       "      <td>Mostly Cloudy</td>\n",
       "      <td>rain</td>\n",
       "      <td>9.377778</td>\n",
       "      <td>9.377778</td>\n",
       "      <td>0.89</td>\n",
       "      <td>3.9284</td>\n",
       "      <td>204.0</td>\n",
       "      <td>14.9569</td>\n",
       "      <td>0.0</td>\n",
       "      <td>1015.94</td>\n",
       "      <td>Partly cloudy throughout the day.</td>\n",
       "    </tr>\n",
       "    <tr>\n",
       "      <th>3</th>\n",
       "      <td>2006-04-01 03:00:00.000 +0200</td>\n",
       "      <td>Partly Cloudy</td>\n",
       "      <td>rain</td>\n",
       "      <td>8.288889</td>\n",
       "      <td>5.944444</td>\n",
       "      <td>0.83</td>\n",
       "      <td>14.1036</td>\n",
       "      <td>269.0</td>\n",
       "      <td>15.8263</td>\n",
       "      <td>0.0</td>\n",
       "      <td>1016.41</td>\n",
       "      <td>Partly cloudy throughout the day.</td>\n",
       "    </tr>\n",
       "    <tr>\n",
       "      <th>4</th>\n",
       "      <td>2006-04-01 04:00:00.000 +0200</td>\n",
       "      <td>Mostly Cloudy</td>\n",
       "      <td>rain</td>\n",
       "      <td>8.755556</td>\n",
       "      <td>6.977778</td>\n",
       "      <td>0.83</td>\n",
       "      <td>11.0446</td>\n",
       "      <td>259.0</td>\n",
       "      <td>15.8263</td>\n",
       "      <td>0.0</td>\n",
       "      <td>1016.51</td>\n",
       "      <td>Partly cloudy throughout the day.</td>\n",
       "    </tr>\n",
       "  </tbody>\n",
       "</table>\n",
       "</div>"
      ],
      "text/plain": [
       "                  Formatted Date        Summary Precip Type  Temperature (C)  \\\n",
       "0  2006-04-01 00:00:00.000 +0200  Partly Cloudy        rain         9.472222   \n",
       "1  2006-04-01 01:00:00.000 +0200  Partly Cloudy        rain         9.355556   \n",
       "2  2006-04-01 02:00:00.000 +0200  Mostly Cloudy        rain         9.377778   \n",
       "3  2006-04-01 03:00:00.000 +0200  Partly Cloudy        rain         8.288889   \n",
       "4  2006-04-01 04:00:00.000 +0200  Mostly Cloudy        rain         8.755556   \n",
       "\n",
       "   Apparent Temperature (C)  Humidity  Wind Speed (km/h)  \\\n",
       "0                  7.388889      0.89            14.1197   \n",
       "1                  7.227778      0.86            14.2646   \n",
       "2                  9.377778      0.89             3.9284   \n",
       "3                  5.944444      0.83            14.1036   \n",
       "4                  6.977778      0.83            11.0446   \n",
       "\n",
       "   Wind Bearing (degrees)  Visibility (km)  Loud Cover  Pressure (millibars)  \\\n",
       "0                   251.0          15.8263         0.0               1015.13   \n",
       "1                   259.0          15.8263         0.0               1015.63   \n",
       "2                   204.0          14.9569         0.0               1015.94   \n",
       "3                   269.0          15.8263         0.0               1016.41   \n",
       "4                   259.0          15.8263         0.0               1016.51   \n",
       "\n",
       "                       Daily Summary  \n",
       "0  Partly cloudy throughout the day.  \n",
       "1  Partly cloudy throughout the day.  \n",
       "2  Partly cloudy throughout the day.  \n",
       "3  Partly cloudy throughout the day.  \n",
       "4  Partly cloudy throughout the day.  "
      ]
     },
     "execution_count": 106,
     "metadata": {},
     "output_type": "execute_result"
    }
   ],
   "source": [
    "import pandas as pd\n",
    "df = pd.read_csv('weatherHistory.csv')\n",
    "df.head()"
   ]
  },
  {
   "cell_type": "code",
   "execution_count": 110,
   "metadata": {},
   "outputs": [
    {
     "name": "stdout",
     "output_type": "stream",
     "text": [
      "<class 'pandas.core.frame.DataFrame'>\n",
      "RangeIndex: 96453 entries, 0 to 96452\n",
      "Data columns (total 12 columns):\n",
      " #   Column                    Non-Null Count  Dtype  \n",
      "---  ------                    --------------  -----  \n",
      " 0   Formatted Date            96453 non-null  object \n",
      " 1   Summary                   96453 non-null  object \n",
      " 2   Precip Type               95936 non-null  object \n",
      " 3   Temperature (C)           96453 non-null  float64\n",
      " 4   Apparent Temperature (C)  96453 non-null  float64\n",
      " 5   Humidity                  96453 non-null  float64\n",
      " 6   Wind Speed (km/h)         96453 non-null  float64\n",
      " 7   Wind Bearing (degrees)    96453 non-null  float64\n",
      " 8   Visibility (km)           96453 non-null  float64\n",
      " 9   Loud Cover                96453 non-null  float64\n",
      " 10  Pressure (millibars)      96453 non-null  float64\n",
      " 11  Daily Summary             96453 non-null  object \n",
      "dtypes: float64(8), object(4)\n",
      "memory usage: 8.8+ MB\n"
     ]
    }
   ],
   "source": [
    "df.info()"
   ]
  },
  {
   "cell_type": "code",
   "execution_count": 111,
   "metadata": {},
   "outputs": [
    {
     "data": {
      "text/plain": [
       "(96453, 12)"
      ]
     },
     "execution_count": 111,
     "metadata": {},
     "output_type": "execute_result"
    }
   ],
   "source": [
    "df.shape"
   ]
  },
  {
   "cell_type": "code",
   "execution_count": 116,
   "metadata": {},
   "outputs": [
    {
     "data": {
      "text/html": [
       "<div>\n",
       "<style scoped>\n",
       "    .dataframe tbody tr th:only-of-type {\n",
       "        vertical-align: middle;\n",
       "    }\n",
       "\n",
       "    .dataframe tbody tr th {\n",
       "        vertical-align: top;\n",
       "    }\n",
       "\n",
       "    .dataframe thead th {\n",
       "        text-align: right;\n",
       "    }\n",
       "</style>\n",
       "<table border=\"1\" class=\"dataframe\">\n",
       "  <thead>\n",
       "    <tr style=\"text-align: right;\">\n",
       "      <th></th>\n",
       "      <th>Temperature (C)</th>\n",
       "      <th>Apparent Temperature (C)</th>\n",
       "      <th>Humidity</th>\n",
       "      <th>Wind Speed (km/h)</th>\n",
       "      <th>Wind Bearing (degrees)</th>\n",
       "      <th>Visibility (km)</th>\n",
       "      <th>Loud Cover</th>\n",
       "      <th>Pressure (millibars)</th>\n",
       "    </tr>\n",
       "    <tr>\n",
       "      <th>Daily Summary</th>\n",
       "      <th></th>\n",
       "      <th></th>\n",
       "      <th></th>\n",
       "      <th></th>\n",
       "      <th></th>\n",
       "      <th></th>\n",
       "      <th></th>\n",
       "      <th></th>\n",
       "    </tr>\n",
       "  </thead>\n",
       "  <tbody>\n",
       "    <tr>\n",
       "      <th>Breezy and foggy starting in the evening.</th>\n",
       "      <td>4.523843</td>\n",
       "      <td>0.485880</td>\n",
       "      <td>0.979583</td>\n",
       "      <td>21.327133</td>\n",
       "      <td>137.833333</td>\n",
       "      <td>6.888117</td>\n",
       "      <td>0.0</td>\n",
       "      <td>991.355417</td>\n",
       "    </tr>\n",
       "    <tr>\n",
       "      <th>Breezy and foggy until morning.</th>\n",
       "      <td>-4.869213</td>\n",
       "      <td>-10.947222</td>\n",
       "      <td>0.803750</td>\n",
       "      <td>21.448554</td>\n",
       "      <td>257.166667</td>\n",
       "      <td>7.986942</td>\n",
       "      <td>0.0</td>\n",
       "      <td>1014.138750</td>\n",
       "    </tr>\n",
       "    <tr>\n",
       "      <th>Breezy and mostly cloudy overnight.</th>\n",
       "      <td>3.755787</td>\n",
       "      <td>-0.340741</td>\n",
       "      <td>0.733750</td>\n",
       "      <td>19.908992</td>\n",
       "      <td>248.833333</td>\n",
       "      <td>12.492258</td>\n",
       "      <td>0.0</td>\n",
       "      <td>1007.213333</td>\n",
       "    </tr>\n",
       "    <tr>\n",
       "      <th>Breezy and partly cloudy in the afternoon.</th>\n",
       "      <td>28.097917</td>\n",
       "      <td>27.488657</td>\n",
       "      <td>0.418333</td>\n",
       "      <td>16.992208</td>\n",
       "      <td>223.541667</td>\n",
       "      <td>11.504792</td>\n",
       "      <td>0.0</td>\n",
       "      <td>1005.110000</td>\n",
       "    </tr>\n",
       "    <tr>\n",
       "      <th>Breezy in the morning and foggy in the evening.</th>\n",
       "      <td>0.743750</td>\n",
       "      <td>-5.121528</td>\n",
       "      <td>0.802083</td>\n",
       "      <td>26.870900</td>\n",
       "      <td>27.541667</td>\n",
       "      <td>10.797733</td>\n",
       "      <td>0.0</td>\n",
       "      <td>1013.686250</td>\n",
       "    </tr>\n",
       "    <tr>\n",
       "      <th>...</th>\n",
       "      <td>...</td>\n",
       "      <td>...</td>\n",
       "      <td>...</td>\n",
       "      <td>...</td>\n",
       "      <td>...</td>\n",
       "      <td>...</td>\n",
       "      <td>...</td>\n",
       "      <td>...</td>\n",
       "    </tr>\n",
       "    <tr>\n",
       "      <th>Partly cloudy until night.</th>\n",
       "      <td>17.675495</td>\n",
       "      <td>17.282404</td>\n",
       "      <td>0.650827</td>\n",
       "      <td>9.637616</td>\n",
       "      <td>198.950397</td>\n",
       "      <td>11.919778</td>\n",
       "      <td>0.0</td>\n",
       "      <td>1011.081989</td>\n",
       "    </tr>\n",
       "    <tr>\n",
       "      <th>Rain throughout the day.</th>\n",
       "      <td>10.128241</td>\n",
       "      <td>9.285880</td>\n",
       "      <td>0.892917</td>\n",
       "      <td>11.803313</td>\n",
       "      <td>167.625000</td>\n",
       "      <td>9.109246</td>\n",
       "      <td>0.0</td>\n",
       "      <td>1014.335417</td>\n",
       "    </tr>\n",
       "    <tr>\n",
       "      <th>Rain until afternoon.</th>\n",
       "      <td>11.701157</td>\n",
       "      <td>11.328009</td>\n",
       "      <td>0.868333</td>\n",
       "      <td>11.276708</td>\n",
       "      <td>69.000000</td>\n",
       "      <td>0.000000</td>\n",
       "      <td>0.0</td>\n",
       "      <td>1021.991250</td>\n",
       "    </tr>\n",
       "    <tr>\n",
       "      <th>Rain until morning.</th>\n",
       "      <td>9.304630</td>\n",
       "      <td>8.253009</td>\n",
       "      <td>0.797083</td>\n",
       "      <td>8.918058</td>\n",
       "      <td>264.958333</td>\n",
       "      <td>10.307354</td>\n",
       "      <td>0.0</td>\n",
       "      <td>1016.951250</td>\n",
       "    </tr>\n",
       "    <tr>\n",
       "      <th>Windy in the afternoon.</th>\n",
       "      <td>4.538889</td>\n",
       "      <td>1.004167</td>\n",
       "      <td>0.722917</td>\n",
       "      <td>18.857125</td>\n",
       "      <td>258.416667</td>\n",
       "      <td>7.235608</td>\n",
       "      <td>0.0</td>\n",
       "      <td>341.752917</td>\n",
       "    </tr>\n",
       "  </tbody>\n",
       "</table>\n",
       "<p>214 rows × 8 columns</p>\n",
       "</div>"
      ],
      "text/plain": [
       "                                                 Temperature (C)  \\\n",
       "Daily Summary                                                      \n",
       "Breezy and foggy starting in the evening.               4.523843   \n",
       "Breezy and foggy until morning.                        -4.869213   \n",
       "Breezy and mostly cloudy overnight.                     3.755787   \n",
       "Breezy and partly cloudy in the afternoon.             28.097917   \n",
       "Breezy in the morning and foggy in the evening.         0.743750   \n",
       "...                                                          ...   \n",
       "Partly cloudy until night.                             17.675495   \n",
       "Rain throughout the day.                               10.128241   \n",
       "Rain until afternoon.                                  11.701157   \n",
       "Rain until morning.                                     9.304630   \n",
       "Windy in the afternoon.                                 4.538889   \n",
       "\n",
       "                                                 Apparent Temperature (C)  \\\n",
       "Daily Summary                                                               \n",
       "Breezy and foggy starting in the evening.                        0.485880   \n",
       "Breezy and foggy until morning.                                -10.947222   \n",
       "Breezy and mostly cloudy overnight.                             -0.340741   \n",
       "Breezy and partly cloudy in the afternoon.                      27.488657   \n",
       "Breezy in the morning and foggy in the evening.                 -5.121528   \n",
       "...                                                                   ...   \n",
       "Partly cloudy until night.                                      17.282404   \n",
       "Rain throughout the day.                                         9.285880   \n",
       "Rain until afternoon.                                           11.328009   \n",
       "Rain until morning.                                              8.253009   \n",
       "Windy in the afternoon.                                          1.004167   \n",
       "\n",
       "                                                 Humidity  Wind Speed (km/h)  \\\n",
       "Daily Summary                                                                  \n",
       "Breezy and foggy starting in the evening.        0.979583          21.327133   \n",
       "Breezy and foggy until morning.                  0.803750          21.448554   \n",
       "Breezy and mostly cloudy overnight.              0.733750          19.908992   \n",
       "Breezy and partly cloudy in the afternoon.       0.418333          16.992208   \n",
       "Breezy in the morning and foggy in the evening.  0.802083          26.870900   \n",
       "...                                                   ...                ...   \n",
       "Partly cloudy until night.                       0.650827           9.637616   \n",
       "Rain throughout the day.                         0.892917          11.803313   \n",
       "Rain until afternoon.                            0.868333          11.276708   \n",
       "Rain until morning.                              0.797083           8.918058   \n",
       "Windy in the afternoon.                          0.722917          18.857125   \n",
       "\n",
       "                                                 Wind Bearing (degrees)  \\\n",
       "Daily Summary                                                             \n",
       "Breezy and foggy starting in the evening.                    137.833333   \n",
       "Breezy and foggy until morning.                              257.166667   \n",
       "Breezy and mostly cloudy overnight.                          248.833333   \n",
       "Breezy and partly cloudy in the afternoon.                   223.541667   \n",
       "Breezy in the morning and foggy in the evening.               27.541667   \n",
       "...                                                                 ...   \n",
       "Partly cloudy until night.                                   198.950397   \n",
       "Rain throughout the day.                                     167.625000   \n",
       "Rain until afternoon.                                         69.000000   \n",
       "Rain until morning.                                          264.958333   \n",
       "Windy in the afternoon.                                      258.416667   \n",
       "\n",
       "                                                 Visibility (km)  Loud Cover  \\\n",
       "Daily Summary                                                                  \n",
       "Breezy and foggy starting in the evening.               6.888117         0.0   \n",
       "Breezy and foggy until morning.                         7.986942         0.0   \n",
       "Breezy and mostly cloudy overnight.                    12.492258         0.0   \n",
       "Breezy and partly cloudy in the afternoon.             11.504792         0.0   \n",
       "Breezy in the morning and foggy in the evening.        10.797733         0.0   \n",
       "...                                                          ...         ...   \n",
       "Partly cloudy until night.                             11.919778         0.0   \n",
       "Rain throughout the day.                                9.109246         0.0   \n",
       "Rain until afternoon.                                   0.000000         0.0   \n",
       "Rain until morning.                                    10.307354         0.0   \n",
       "Windy in the afternoon.                                 7.235608         0.0   \n",
       "\n",
       "                                                 Pressure (millibars)  \n",
       "Daily Summary                                                          \n",
       "Breezy and foggy starting in the evening.                  991.355417  \n",
       "Breezy and foggy until morning.                           1014.138750  \n",
       "Breezy and mostly cloudy overnight.                       1007.213333  \n",
       "Breezy and partly cloudy in the afternoon.                1005.110000  \n",
       "Breezy in the morning and foggy in the evening.           1013.686250  \n",
       "...                                                               ...  \n",
       "Partly cloudy until night.                                1011.081989  \n",
       "Rain throughout the day.                                  1014.335417  \n",
       "Rain until afternoon.                                     1021.991250  \n",
       "Rain until morning.                                       1016.951250  \n",
       "Windy in the afternoon.                                    341.752917  \n",
       "\n",
       "[214 rows x 8 columns]"
      ]
     },
     "execution_count": 116,
     "metadata": {},
     "output_type": "execute_result"
    }
   ],
   "source": [
    "df.groupby(\"Daily Summary\").mean()"
   ]
  },
  {
   "cell_type": "code",
   "execution_count": 113,
   "metadata": {},
   "outputs": [
    {
     "data": {
      "text/plain": [
       "6.913571012591992"
      ]
     },
     "execution_count": 113,
     "metadata": {},
     "output_type": "execute_result"
    }
   ],
   "source": [
    "sts.stdev(df['Wind Speed (km/h)'])"
   ]
  },
  {
   "cell_type": "code",
   "execution_count": 119,
   "metadata": {},
   "outputs": [
    {
     "data": {
      "text/plain": [
       "0.0"
      ]
     },
     "execution_count": 119,
     "metadata": {},
     "output_type": "execute_result"
    }
   ],
   "source": [
    "#Get the minimum value\n",
    "min(df['Humidity'])\n",
    "print(df['Formatted Date'])"
   ]
  },
  {
   "cell_type": "code",
   "execution_count": 129,
   "metadata": {},
   "outputs": [
    {
     "name": "stdout",
     "output_type": "stream",
     "text": [
      "Median = 12.0\n",
      "Values equal to median: 19\n"
     ]
    }
   ],
   "source": [
    "#Get the median value of Apparent Temperature\n",
    "#median(df['Apparent Temperature'])\n",
    "\n",
    "median = df['Apparent Temperature (C)'].median()\n",
    "print(f'Median = {median}')\n",
    "value = df['Apparent Temperature (C)'].value_counts()[12]\n",
    "print(f'Values equal to median: {value}')\n"
   ]
  }
 ],
 "metadata": {
  "kernelspec": {
   "display_name": "Python 3 (ipykernel)",
   "language": "python",
   "name": "python3"
  },
  "language_info": {
   "codemirror_mode": {
    "name": "ipython",
    "version": 3
   },
   "file_extension": ".py",
   "mimetype": "text/x-python",
   "name": "python",
   "nbconvert_exporter": "python",
   "pygments_lexer": "ipython3",
   "version": "3.9.12"
  }
 },
 "nbformat": 4,
 "nbformat_minor": 2
}
